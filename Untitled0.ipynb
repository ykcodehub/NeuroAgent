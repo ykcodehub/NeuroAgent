{
  "nbformat": 4,
  "nbformat_minor": 0,
  "metadata": {
    "colab": {
      "provenance": []
    },
    "kernelspec": {
      "name": "python3",
      "display_name": "Python 3"
    },
    "language_info": {
      "name": "python"
    }
  },
  "cells": [
    {
      "cell_type": "code",
      "execution_count": null,
      "metadata": {
        "id": "y08gsn5D4trm"
      },
      "outputs": [],
      "source": []
    },
    {
      "cell_type": "code",
      "metadata": {
        "id": "fb3884f8",
        "colab": {
          "base_uri": "https://localhost:8080/"
        },
        "outputId": "566a1764-9155-4b74-aa9e-dd1bfcbe7778"
      },
      "source": [
        "# Make sure you replace 'your_app_name.py' with the actual name of your Streamlit file.\n",
        "!streamlit run app.py & npx localtunnel --port 8501"
      ],
      "execution_count": 5,
      "outputs": [
        {
          "output_type": "stream",
          "name": "stdout",
          "text": [
            "/bin/bash: line 1: streamlit: command not found\n",
            "\u001b[1G\u001b[0K⠙\u001b[1G\u001b[0K⠹\u001b[1G\u001b[0K⠸\u001b[1G\u001b[0K⠼\u001b[1G\u001b[0K⠴\u001b[1G\u001b[0K⠦\u001b[1G\u001b[0K⠧\u001b[1G\u001b[0K⠇\u001b[1G\u001b[0K⠏\u001b[1G\u001b[0K⠋\u001b[1G\u001b[0K⠙\u001b[1G\u001b[0K⠹\u001b[1G\u001b[0K⠸\u001b[1G\u001b[0K\u001b[1G\u001b[0JNeed to install the following packages:\n",
            "localtunnel@2.0.2\n",
            "Ok to proceed? (y) \u001b[20Gy\n",
            "\n",
            "\u001b[1G\u001b[0K⠙\u001b[1G\u001b[0K⠹\u001b[1G\u001b[0K⠸\u001b[1G\u001b[0K⠼\u001b[1G\u001b[0K⠴\u001b[1G\u001b[0K⠦\u001b[1G\u001b[0K⠧\u001b[1G\u001b[0K⠇\u001b[1G\u001b[0K⠏\u001b[1G\u001b[0K⠋\u001b[1G\u001b[0K⠙\u001b[1G\u001b[0K⠹\u001b[1G\u001b[0K⠸\u001b[1G\u001b[0K⠼\u001b[1G\u001b[0K⠴\u001b[1G\u001b[0K⠦\u001b[1G\u001b[0K⠧\u001b[1G\u001b[0K⠇\u001b[1G\u001b[0K⠏\u001b[1G\u001b[0K⠋\u001b[1G\u001b[0K⠙\u001b[1G\u001b[0Kyour url is: https://orange-taxes-allow.loca.lt\n",
            "^C\n"
          ]
        }
      ]
    },
    {
      "cell_type": "code",
      "source": [],
      "metadata": {
        "id": "MAk87vIE7E1J"
      },
      "execution_count": null,
      "outputs": []
    },
    {
      "cell_type": "code",
      "metadata": {
        "id": "4f1f2714"
      },
      "source": [
        "!pip install -q pyngrok"
      ],
      "execution_count": 6,
      "outputs": []
    },
    {
      "cell_type": "code",
      "metadata": {
        "id": "765bc893"
      },
      "source": [
        "from pyngrok import ngrok\n",
        "\n",
        "# Replace 'YOUR_NGROK_AUTHTOKEN' with your actual authtoken\n",
        "ngrok.set_auth_token(\"31O6KIAsf4e0nRx3UeLFAM4SEuO_4MtPrj3oBjRZnUCx86NG3\")"
      ],
      "execution_count": 7,
      "outputs": []
    },
    {
      "cell_type": "code",
      "metadata": {
        "colab": {
          "base_uri": "https://localhost:8080/"
        },
        "id": "0154a414",
        "outputId": "a269e2e2-c133-4030-99a7-49bf6d1944c8"
      },
      "source": [
        "from pyngrok import ngrok\n",
        "import os\n",
        "import threading\n",
        "import time\n",
        "\n",
        "# Replace 'your_app_name.py' with the actual name of your Streamlit file\n",
        "streamlit_file = 'app.py'\n",
        "\n",
        "# Kill any running ngrok tunnels\n",
        "ngrok.kill()\n",
        "\n",
        "# Install Streamlit\n",
        "# os.system('pip install streamlit')\n",
        "\n",
        "# Start ngrok tunnel\n",
        "public_url = ngrok.connect(8501)\n",
        "print(f\"Ngrok Tunnel URL: {public_url}\")\n",
        "\n",
        "# Run Streamlit in a background thread\n",
        "def run_streamlit():\n",
        "    os.system(f'streamlit run {streamlit_file} --server.port 8501 --server.enableCORS false --server.enableXsrfProtection false')\n",
        "\n",
        "thread = threading.Thread(target=run_streamlit)\n",
        "thread.start()\n",
        "\n",
        "# Keep the cell alive while the tunnel is active\n",
        "try:\n",
        "    while True:\n",
        "        time.sleep(1)\n",
        "except KeyboardInterrupt:\n",
        "    print(\"Stopping Streamlit and ngrok tunnel...\")\n",
        "    ngrok.disconnect(public_url)\n",
        "    ngrok.kill()\n",
        "    print(\"Stopped.\")"
      ],
      "execution_count": null,
      "outputs": [
        {
          "output_type": "stream",
          "name": "stdout",
          "text": [
            "Ngrok Tunnel URL: NgrokTunnel: \"https://60325c3ef189.ngrok-free.app\" -> \"http://localhost:8501\"\n"
          ]
        }
      ]
    },
    {
      "cell_type": "code",
      "source": [],
      "metadata": {
        "id": "r1tLxHGK-JTS"
      },
      "execution_count": null,
      "outputs": []
    }
  ]
}